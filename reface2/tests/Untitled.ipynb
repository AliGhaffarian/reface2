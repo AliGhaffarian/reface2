{
 "cells": [
  {
   "cell_type": "code",
   "execution_count": 48,
   "id": "26c90ca5",
   "metadata": {},
   "outputs": [
    {
     "data": {
      "text/plain": [
       "()"
      ]
     },
     "execution_count": 48,
     "metadata": {},
     "output_type": "execute_result"
    }
   ],
   "source": [
    "import pyroute2\n",
    "import socket\n",
    "ipr = pyroute2.IPRoute()\n",
    "\n",
    "ipr.addr(\"add\", index=ipr.link_lookup(ifname=\"wlan0\")[0], address=\"10.0.0.2\", prefixlen=24)"
   ]
  },
  {
   "cell_type": "code",
   "execution_count": 71,
   "id": "97e1731f",
   "metadata": {},
   "outputs": [
    {
     "data": {
      "text/plain": [
       "({'error': 0,\n",
       "  'attrs': [('NLMSGERR_ATTR_UNUSED', None)],\n",
       "  'header': {'length': 36,\n",
       "   'type': 2,\n",
       "   'flags': 256,\n",
       "   'sequence_number': 257,\n",
       "   'pid': 2541037863,\n",
       "   'error': None,\n",
       "   'target': 'localhost',\n",
       "   'stats': Stats(qsize=0, delta=0, delay=0)},\n",
       "  'event': 'NLMSG_ERROR'},)"
      ]
     },
     "execution_count": 71,
     "metadata": {},
     "output_type": "execute_result"
    }
   ],
   "source": [
    "import pyroute2\n",
    "import socket\n",
    "ipr = pyroute2.IPRoute()\n",
    "route = {\n",
    "'dst': '10.0.0.0/24',\n",
    "'oif': ipr.link_lookup(ifname='wlan0')[0],\n",
    "'scope': 253,\n",
    "'prefsrc': '10.0.0.2'\n",
    "}\n",
    "#ipr.route(\"add\", **route)\n",
    "#ipr.route(\"add\", oif=ipr.link_lookup(ifname=\"wlan0\")[0], dst=\"10.0.0.0/24\", prefsrc=\"10.0.0.1\")\n",
    "ipr.route(\"del\", oif=ipr.link_lookup(ifname=\"wlan0\")[0], dst=\"10.0.0.0/24\", scope=253)"
   ]
  },
  {
   "cell_type": "code",
   "execution_count": 97,
   "id": "ebb1b1f1",
   "metadata": {
    "scrolled": false
   },
   "outputs": [
    {
     "name": "stdout",
     "output_type": "stream",
     "text": [
      "{'family': 2, 'dst_len': 0, 'src_len': 0, 'tos': 0, 'table': 254, 'proto': 3, 'scope': 0, 'type': 1, 'flags': 0, 'attrs': [('RTA_TABLE', 254), ('RTA_GATEWAY', '192.168.1.1'), ('RTA_OIF', 2)], 'header': {'length': 52, 'type': 24, 'flags': 2, 'sequence_number': 305, 'pid': 2541037863, 'error': None, 'target': 'localhost', 'stats': Stats(qsize=0, delta=0, delay=0)}, 'event': 'RTM_NEWROUTE'}\n",
      "{'family': 2, 'dst_len': 24, 'src_len': 0, 'tos': 0, 'table': 254, 'proto': 2, 'scope': 253, 'type': 1, 'flags': 0, 'attrs': [('RTA_TABLE', 254), ('RTA_DST', '192.168.1.0'), ('RTA_PREFSRC', '192.168.1.39'), ('RTA_OIF', 2)], 'header': {'length': 60, 'type': 24, 'flags': 2, 'sequence_number': 305, 'pid': 2541037863, 'error': None, 'target': 'localhost', 'stats': Stats(qsize=0, delta=0, delay=0)}, 'event': 'RTM_NEWROUTE'}\n",
      "{'family': 2, 'dst_len': 32, 'src_len': 0, 'tos': 0, 'table': 255, 'proto': 2, 'scope': 254, 'type': 2, 'flags': 0, 'attrs': [('RTA_TABLE', 255), ('RTA_DST', '192.168.1.39'), ('RTA_PREFSRC', '192.168.1.39'), ('RTA_OIF', 2)], 'header': {'length': 60, 'type': 24, 'flags': 2, 'sequence_number': 305, 'pid': 2541037863, 'error': None, 'target': 'localhost', 'stats': Stats(qsize=0, delta=0, delay=0)}, 'event': 'RTM_NEWROUTE'}\n",
      "{'family': 2, 'dst_len': 32, 'src_len': 0, 'tos': 0, 'table': 255, 'proto': 2, 'scope': 253, 'type': 3, 'flags': 0, 'attrs': [('RTA_TABLE', 255), ('RTA_DST', '192.168.1.255'), ('RTA_PREFSRC', '192.168.1.39'), ('RTA_OIF', 2)], 'header': {'length': 60, 'type': 24, 'flags': 2, 'sequence_number': 305, 'pid': 2541037863, 'error': None, 'target': 'localhost', 'stats': Stats(qsize=0, delta=0, delay=0)}, 'event': 'RTM_NEWROUTE'}\n"
     ]
    }
   ],
   "source": [
    "\n",
    "for dump in ipr.route(\"dump\", oif=ipr.link_lookup(ifname=\"eth0\")[0]):\n",
    "    if 'dst_len' in dump.keys():\n",
    "        print(dump)\n"
   ]
  },
  {
   "cell_type": "code",
   "execution_count": 98,
   "id": "b097d5f6",
   "metadata": {},
   "outputs": [],
   "source": [
    "from sysctl_utilities import *"
   ]
  },
  {
   "cell_type": "code",
   "execution_count": 2,
   "id": "879337c7",
   "metadata": {},
   "outputs": [
    {
     "name": "stdout",
     "output_type": "stream",
     "text": [
      "74:51:ba:ec:37:01\n",
      "\u001b[32m2024-08-13 22:14:35,943 [INFO] pyroute2_utilities [change_mac]: wlan0 is busy shutting down the interface\u001b[0m\n",
      "\u001b[32m2024-08-13 22:14:36,061 [INFO] pyroute2_utilities [change_mac]: starting up wlan0\u001b[0m\n"
     ]
    }
   ],
   "source": [
    "from pyroute2_utilities import *\n",
    "import scapy.all\n",
    "import constants.mac_templates as mac_templates\n",
    "random_mac = scapy.all.RandMAC(mac_templates.random_mac_template())\n",
    "print(random_mac)\n",
    "set_host_data(ifname=\"wlan0\", ip=\"10.0.0.2\", mac=random_mac, ttl=21, netmask=24, mtu=1300)"
   ]
  },
  {
   "cell_type": "code",
   "execution_count": 40,
   "id": "7ec6df1f",
   "metadata": {},
   "outputs": [
    {
     "name": "stdout",
     "output_type": "stream",
     "text": [
      "['192.168.1.52/24']\n",
      "['fe80::369a:40c4:c83:5291/64']\n",
      "64:b4:73:aa:89:8d\n",
      "{'ipv4': ['192.168.1.52/24'], 'ipv6': ['fe80::369a:40c4:c83:5291/64'], 'mac': '64:b4:73:aa:89:8d', 'mtu': 1500, 'ttl': '64'}\n",
      "True\n"
     ]
    }
   ],
   "source": [
    "import pyroute2\n",
    "import socket\n",
    "import constants.sysctl_params as sysctl_params\n",
    "import shell_utilities\n",
    "\n",
    "ipr = pyroute2.IPRoute()\n",
    "ifname=\"wlan0\"\n",
    "\n",
    "simple_dump = {}\n",
    "ipv4s = []\n",
    "ipv6s = []\n",
    "for addr_dump in ipr.addr(\"dump\", index=ipr.link_lookup(ifname=ifname)[0]):\n",
    "    if addr_dump['family'] == socket.AF_INET:\n",
    "        temp_ipv4 = addr_dump.get_attr(\"IFA_ADDRESS\") + \"/\" + str(addr_dump['prefixlen'])\n",
    "        ipv4s.append(temp_ipv4)\n",
    "    if addr_dump['family'] == socket.AF_INET6:\n",
    "        temp_ipv6 = addr_dump.get_attr(\"IFA_ADDRESS\") + \"/\" + str(addr_dump['prefixlen'])\n",
    "        ipv6s.append(temp_ipv6)\n",
    "        \n",
    "link_dump = ipr.poll(ipr.link, \"dump\", ifname=ifname)[0]\n",
    "mac = link_dump.get_attr(\"IFLA_ADDRESS\")\n",
    "mtu = link_dump.get_attr(\"IFLA_MTU\")\n",
    "\n",
    "ttl = shell_utilities.get_sysctl_param(sysctl_params.IPV4_DEFAULT_TTL)\n",
    "\n",
    "print(ipv4s)\n",
    "print(ipv6s)\n",
    "print(mac)\n",
    "\n",
    "simple_dump.update({\"ipv4\" : ipv4s})\n",
    "simple_dump.update({\"ipv6\" : ipv6s})\n",
    "simple_dump.update({\"mac\" : mac})\n",
    "simple_dump.update({\"mtu\" : mtu})\n",
    "simple_dump.update({\"ttl\" : ttl})\n",
    "\n",
    "\n",
    "print(simple_dump)\n",
    "\n",
    "print(\"192.168.1.52/24\" in simple_dump['ipv4'])"
   ]
  },
  {
   "cell_type": "code",
   "execution_count": 12,
   "id": "cfedbdf7",
   "metadata": {
    "scrolled": false
   },
   "outputs": [
    {
     "ename": "NameError",
     "evalue": "name 'x' is not defined",
     "output_type": "error",
     "traceback": [
      "\u001b[0;31m---------------------------------------------------------------------------\u001b[0m",
      "\u001b[0;31mNameError\u001b[0m                                 Traceback (most recent call last)",
      "Cell \u001b[0;32mIn[12], line 1\u001b[0m\n\u001b[0;32m----> 1\u001b[0m \u001b[38;5;28;43mtuple\u001b[39;49m\u001b[43m(\u001b[49m\u001b[43mx\u001b[49m\u001b[43m \u001b[49m\u001b[38;5;28;43;01mfor\u001b[39;49;00m\u001b[43m \u001b[49m\u001b[43mi\u001b[49m\u001b[43m \u001b[49m\u001b[38;5;129;43;01min\u001b[39;49;00m\u001b[43m \u001b[49m\u001b[38;5;28;43mrange\u001b[39;49m\u001b[43m(\u001b[49m\u001b[38;5;241;43m20\u001b[39;49m\u001b[43m)\u001b[49m\u001b[43m)\u001b[49m\n",
      "Cell \u001b[0;32mIn[12], line 1\u001b[0m, in \u001b[0;36m<genexpr>\u001b[0;34m(.0)\u001b[0m\n\u001b[0;32m----> 1\u001b[0m \u001b[38;5;28mtuple\u001b[39m(\u001b[43mx\u001b[49m \u001b[38;5;28;01mfor\u001b[39;00m i \u001b[38;5;129;01min\u001b[39;00m \u001b[38;5;28mrange\u001b[39m(\u001b[38;5;241m20\u001b[39m))\n",
      "\u001b[0;31mNameError\u001b[0m: name 'x' is not defined"
     ]
    }
   ],
   "source": [
    "tuple(x for i in range(20))"
   ]
  },
  {
   "cell_type": "code",
   "execution_count": 4,
   "id": "c4a02a4f",
   "metadata": {
    "scrolled": false
   },
   "outputs": [
    {
     "name": "stdout",
     "output_type": "stream",
     "text": [
      "[('mgQl9z2', 19), ('YEltQ2z', 19), ('eyzPIGf', 19), ('L3yTrDY', 19), ('AHyYRfv', 19), ('jaVYtlT', 19), ('CTitwKp', 19), ('oQykOhs', 19), ('mzdDFSN', 19), ('NuslVfl', 19), 'wlan0']\n"
     ]
    }
   ],
   "source": [
    "import pyroute2\n",
    "import socket\n",
    "import pytest\n",
    "import sys\n",
    "import os\n",
    "from test_pyroute2_utilities import *\n",
    "sys.path.insert(0, os.path.abspath('../..'))\n",
    "\n",
    "from reface2.utilities.pyroute2_utilities import *\n",
    "def combine_tuples(*arrays):\n",
    "    combined = []\n",
    "    for combination in itertools.product(*arrays):\n",
    "        first_entries = tuple([t[0] for t in combination])\n",
    "        second_entries = [t[1] for t in combination]\n",
    "        iter_result = first_entries + ((second_entries,))\n",
    "        combined.append(iter_result)\n",
    "    return combined\n",
    "\n",
    "# Example usage\n",
    "array1 = [('param1', 0), ('param2', 1)]\n",
    "array2 = [('x1', 2), ('x3', 3)]\n",
    "array3 = [('y1', 4), ('y2', 5)]\n",
    "\n",
    "result = combine_tuples(array1, array2, array3)\n",
    "print(params['ifname'])"
   ]
  },
  {
   "cell_type": "markdown",
   "id": "84e8a1cd",
   "metadata": {},
   "source": [
    "## from functools import wraps\n",
    "\n",
    "def atomic(*get_state_funcs):\n",
    "    \"\"\"\n",
    "    A decorator that ensures the atomicity of the decorated function.\n",
    "    The function takes as an argument a variable number of callables `get_state_funcs`\n",
    "    that retrieve the current state of the target attributes.\n",
    "\n",
    "    If the function fails (returns a non-zero error code), the state of all the \n",
    "    attributes should remain unchanged.\n",
    "\n",
    "    Parameters:\n",
    "    *get_state_funcs (callables): Functions that retrieve the current state of \n",
    "                                  the target attributes.\n",
    "\n",
    "    Usage:\n",
    "        @atomic(get_attrX, get_attrY)\n",
    "        def some_function():\n",
    "            ...\n",
    "    \"\"\"\n",
    "    \n",
    "    def decorator(func):\n",
    "        @wraps(func)\n",
    "        def wrapper(*args, **kwargs):\n",
    "            # Get the initial state of all target attributes\n",
    "            initial_states = [get_func() for get_func in get_state_funcs]\n",
    "            print(f\"initial state : {initial_states}\")\n",
    "            # Execute the function and get the result (assuming errno is returned)\n",
    "            errno=0\n",
    "            try:\n",
    "                errno = func(*args, **kwargs)\n",
    "            except:\n",
    "                final_states = [get_func() for get_func in get_state_funcs]\n",
    "                print(f\"after state : {final_states}\")\n",
    "                assert initial_states == final_states, (\n",
    "                    \"Atomicity violated! \"\n",
    "                    f\"Initial states: {initial_states}, Final states: {final_states}\"\n",
    "                )\n",
    "            # If function failed, ensure the state hasn't changed\n",
    "            if errno:\n",
    "                final_states = [get_func() for get_func in get_state_funcs]\n",
    "                print(f\"after state : {final_states}\")\n",
    "                assert initial_states == final_states, (\n",
    "                    \"Atomicity violated! \"\n",
    "                    f\"Initial states: {initial_states}, Final states: {final_states}\"\n",
    "                )\n",
    "            \n",
    "            return errno\n",
    "            \n",
    "        return wrapper\n",
    "    \n",
    "    return decorator\n",
    "\n",
    "\n",
    "from pyroute2_utilities import*\n",
    "\n",
    "get_mac = lambda : ipr.link(\"dump\", ifname=\"wlan0\")[0].get_attr(\"IFLA_ADDRESS\")\n",
    "\n",
    "@atomic(get_mac)\n",
    "def set_mac(ifname, mac):\n",
    "    try:\n",
    "        change_mac(ifname, mac)\n",
    "    except Exception as e:\n",
    "        ipr.link(\"set\", ifname=ifname, address= \"b4:8c:9d:ad:4d:c9\")\n",
    "        raise e\n",
    "    \n",
    "set_mac(\"wlan0\", \"FF:FF:FF:FF:FF:FF\")"
   ]
  },
  {
   "cell_type": "code",
   "execution_count": 25,
   "id": "8d80c9c4",
   "metadata": {},
   "outputs": [
    {
     "data": {
      "text/plain": [
       "'b4:8c:9d:ad:4d:c9'"
      ]
     },
     "execution_count": 25,
     "metadata": {},
     "output_type": "execute_result"
    }
   ],
   "source": [
    "dic={\n",
    "    \"mac\" : ipr.link(\"dump\", ifname=\"wlan0\")[0].get_attr(\"IFLA_ADDRESS\")\n",
    "}\n",
    "dic[\"mac\"]"
   ]
  },
  {
   "cell_type": "code",
   "execution_count": 27,
   "id": "dc7c30ca",
   "metadata": {},
   "outputs": [
    {
     "data": {
      "text/plain": [
       "[1, 2, 1]"
      ]
     },
     "execution_count": 27,
     "metadata": {},
     "output_type": "execute_result"
    }
   ],
   "source": [
    "[1] + [2] + [1]"
   ]
  },
  {
   "cell_type": "code",
   "execution_count": null,
   "id": "29b24db8",
   "metadata": {},
   "outputs": [],
   "source": []
  },
  {
   "cell_type": "code",
   "execution_count": null,
   "id": "fa7325db",
   "metadata": {},
   "outputs": [],
   "source": []
  },
  {
   "cell_type": "code",
   "execution_count": 48,
   "id": "92cd672f",
   "metadata": {},
   "outputs": [
    {
     "data": {
      "text/plain": [
       "256"
      ]
     },
     "execution_count": 48,
     "metadata": {},
     "output_type": "execute_result"
    }
   ],
   "source": [
    "2**8"
   ]
  },
  {
   "cell_type": "code",
   "execution_count": 61,
   "id": "12208db6",
   "metadata": {},
   "outputs": [
    {
     "name": "stdout",
     "output_type": "stream",
     "text": [
      "(99, 'Cannot assign requested address')\n"
     ]
    }
   ],
   "source": [
    "try: \n",
    "    ipr.link(\"set\", index = ipr.link_lookup(ifname=\"wlan0\"), address='00:00:00:00:00:00')\n",
    "except Exception as e:\n",
    "    print(e)"
   ]
  },
  {
   "cell_type": "code",
   "execution_count": 60,
   "id": "2aae1032",
   "metadata": {},
   "outputs": [
    {
     "ename": "AddressValueError",
     "evalue": "4294967296 (>= 2**32) is not permitted as an IPv4 address",
     "output_type": "error",
     "traceback": [
      "\u001b[0;31m---------------------------------------------------------------------------\u001b[0m",
      "\u001b[0;31mAddressValueError\u001b[0m                         Traceback (most recent call last)",
      "Cell \u001b[0;32mIn[60], line 2\u001b[0m\n\u001b[1;32m      1\u001b[0m \u001b[38;5;28;01mfrom\u001b[39;00m \u001b[38;5;21;01mipaddress\u001b[39;00m \u001b[38;5;28;01mimport\u001b[39;00m \u001b[38;5;241m*\u001b[39m\n\u001b[0;32m----> 2\u001b[0m \u001b[43mIPv4Address\u001b[49m\u001b[43m(\u001b[49m\u001b[38;5;241;43m2\u001b[39;49m\u001b[38;5;241;43m*\u001b[39;49m\u001b[38;5;241;43m*\u001b[39;49m\u001b[38;5;241;43m32\u001b[39;49m\u001b[43m)\u001b[49m\n",
      "File \u001b[0;32m/usr/lib/python3.11/ipaddress.py:1300\u001b[0m, in \u001b[0;36mIPv4Address.__init__\u001b[0;34m(self, address)\u001b[0m\n\u001b[1;32m   1298\u001b[0m \u001b[38;5;66;03m# Efficient constructor from integer.\u001b[39;00m\n\u001b[1;32m   1299\u001b[0m \u001b[38;5;28;01mif\u001b[39;00m \u001b[38;5;28misinstance\u001b[39m(address, \u001b[38;5;28mint\u001b[39m):\n\u001b[0;32m-> 1300\u001b[0m     \u001b[38;5;28;43mself\u001b[39;49m\u001b[38;5;241;43m.\u001b[39;49m\u001b[43m_check_int_address\u001b[49m\u001b[43m(\u001b[49m\u001b[43maddress\u001b[49m\u001b[43m)\u001b[49m\n\u001b[1;32m   1301\u001b[0m     \u001b[38;5;28mself\u001b[39m\u001b[38;5;241m.\u001b[39m_ip \u001b[38;5;241m=\u001b[39m address\n\u001b[1;32m   1302\u001b[0m     \u001b[38;5;28;01mreturn\u001b[39;00m\n",
      "File \u001b[0;32m/usr/lib/python3.11/ipaddress.py:421\u001b[0m, in \u001b[0;36m_IPAddressBase._check_int_address\u001b[0;34m(self, address)\u001b[0m\n\u001b[1;32m    419\u001b[0m \u001b[38;5;28;01mif\u001b[39;00m address \u001b[38;5;241m>\u001b[39m \u001b[38;5;28mself\u001b[39m\u001b[38;5;241m.\u001b[39m_ALL_ONES:\n\u001b[1;32m    420\u001b[0m     msg \u001b[38;5;241m=\u001b[39m \u001b[38;5;124m\"\u001b[39m\u001b[38;5;132;01m%d\u001b[39;00m\u001b[38;5;124m (>= 2**\u001b[39m\u001b[38;5;132;01m%d\u001b[39;00m\u001b[38;5;124m) is not permitted as an IPv\u001b[39m\u001b[38;5;132;01m%d\u001b[39;00m\u001b[38;5;124m address\u001b[39m\u001b[38;5;124m\"\u001b[39m\n\u001b[0;32m--> 421\u001b[0m     \u001b[38;5;28;01mraise\u001b[39;00m AddressValueError(msg \u001b[38;5;241m%\u001b[39m (address, \u001b[38;5;28mself\u001b[39m\u001b[38;5;241m.\u001b[39m_max_prefixlen,\n\u001b[1;32m    422\u001b[0m                                    \u001b[38;5;28mself\u001b[39m\u001b[38;5;241m.\u001b[39m_version))\n",
      "\u001b[0;31mAddressValueError\u001b[0m: 4294967296 (>= 2**32) is not permitted as an IPv4 address"
     ]
    }
   ],
   "source": [
    "from ipaddress import *\n",
    "IPv4Address(2**32)"
   ]
  },
  {
   "cell_type": "code",
   "execution_count": 16,
   "id": "5fcee810",
   "metadata": {},
   "outputs": [
    {
     "ename": "SyntaxError",
     "evalue": "invalid syntax. Maybe you meant '==' or ':=' instead of '='? (1282231569.py, line 1)",
     "output_type": "error",
     "traceback": [
      "\u001b[0;36m  Cell \u001b[0;32mIn[16], line 1\u001b[0;36m\u001b[0m\n\u001b[0;31m    ifname = 'fS1TS3w', ip = IPv4Address('58.194.214.152'), mac = 'FF:FF:FF:FF:FF:FF', netmask = 308, ttl = 196\u001b[0m\n\u001b[0m    ^\u001b[0m\n\u001b[0;31mSyntaxError\u001b[0m\u001b[0;31m:\u001b[0m invalid syntax. Maybe you meant '==' or ':=' instead of '='?\n"
     ]
    }
   ],
   "source": [
    "ifname = 'fS1TS3w'\n",
    "ip = IPv4Address('58.194.214.152')\n",
    "mac = 'FF:FF:FF:FF:FF:FF'\n",
    "netmask = 308\n",
    "ttl = 196\n",
    "mtu = -92\n",
    "expected_exception_codes = [19, 99, 22]\n",
    "\n",
    "from pyroute2_utilities import *\n",
    "set_host_data(ip)\n"
   ]
  },
  {
   "cell_type": "code",
   "execution_count": null,
   "id": "5ab66e93",
   "metadata": {},
   "outputs": [],
   "source": []
  }
 ],
 "metadata": {
  "kernelspec": {
   "display_name": "Python 3 (ipykernel)",
   "language": "python",
   "name": "python3"
  },
  "language_info": {
   "codemirror_mode": {
    "name": "ipython",
    "version": 3
   },
   "file_extension": ".py",
   "mimetype": "text/x-python",
   "name": "python",
   "nbconvert_exporter": "python",
   "pygments_lexer": "ipython3",
   "version": "3.11.9"
  }
 },
 "nbformat": 4,
 "nbformat_minor": 5
}
