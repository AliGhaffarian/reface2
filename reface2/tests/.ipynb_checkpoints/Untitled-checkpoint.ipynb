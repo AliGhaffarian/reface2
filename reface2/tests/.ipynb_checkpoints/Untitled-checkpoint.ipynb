{
 "cells": [
  {
   "cell_type": "code",
   "execution_count": 48,
   "id": "26c90ca5",
   "metadata": {},
   "outputs": [
    {
     "data": {
      "text/plain": [
       "()"
      ]
     },
     "execution_count": 48,
     "metadata": {},
     "output_type": "execute_result"
    }
   ],
   "source": [
    "import pyroute2\n",
    "import socket\n",
    "ipr = pyroute2.IPRoute()\n",
    "\n",
    "ipr.addr(\"add\", index=ipr.link_lookup(ifname=\"wlan0\")[0], address=\"10.0.0.2\", prefixlen=24)"
   ]
  },
  {
   "cell_type": "code",
   "execution_count": 71,
   "id": "97e1731f",
   "metadata": {},
   "outputs": [
    {
     "data": {
      "text/plain": [
       "({'error': 0,\n",
       "  'attrs': [('NLMSGERR_ATTR_UNUSED', None)],\n",
       "  'header': {'length': 36,\n",
       "   'type': 2,\n",
       "   'flags': 256,\n",
       "   'sequence_number': 257,\n",
       "   'pid': 2541037863,\n",
       "   'error': None,\n",
       "   'target': 'localhost',\n",
       "   'stats': Stats(qsize=0, delta=0, delay=0)},\n",
       "  'event': 'NLMSG_ERROR'},)"
      ]
     },
     "execution_count": 71,
     "metadata": {},
     "output_type": "execute_result"
    }
   ],
   "source": [
    "import pyroute2\n",
    "import socket\n",
    "ipr = pyroute2.IPRoute()\n",
    "route = {\n",
    "'dst': '10.0.0.0/24',\n",
    "'oif': ipr.link_lookup(ifname='wlan0')[0],\n",
    "'scope': 253,\n",
    "'prefsrc': '10.0.0.2'\n",
    "}\n",
    "#ipr.route(\"add\", **route)\n",
    "#ipr.route(\"add\", oif=ipr.link_lookup(ifname=\"wlan0\")[0], dst=\"10.0.0.0/24\", prefsrc=\"10.0.0.1\")\n",
    "ipr.route(\"del\", oif=ipr.link_lookup(ifname=\"wlan0\")[0], dst=\"10.0.0.0/24\", scope=253)"
   ]
  },
  {
   "cell_type": "code",
   "execution_count": 97,
   "id": "ebb1b1f1",
   "metadata": {
    "scrolled": false
   },
   "outputs": [
    {
     "name": "stdout",
     "output_type": "stream",
     "text": [
      "{'family': 2, 'dst_len': 0, 'src_len': 0, 'tos': 0, 'table': 254, 'proto': 3, 'scope': 0, 'type': 1, 'flags': 0, 'attrs': [('RTA_TABLE', 254), ('RTA_GATEWAY', '192.168.1.1'), ('RTA_OIF', 2)], 'header': {'length': 52, 'type': 24, 'flags': 2, 'sequence_number': 305, 'pid': 2541037863, 'error': None, 'target': 'localhost', 'stats': Stats(qsize=0, delta=0, delay=0)}, 'event': 'RTM_NEWROUTE'}\n",
      "{'family': 2, 'dst_len': 24, 'src_len': 0, 'tos': 0, 'table': 254, 'proto': 2, 'scope': 253, 'type': 1, 'flags': 0, 'attrs': [('RTA_TABLE', 254), ('RTA_DST', '192.168.1.0'), ('RTA_PREFSRC', '192.168.1.39'), ('RTA_OIF', 2)], 'header': {'length': 60, 'type': 24, 'flags': 2, 'sequence_number': 305, 'pid': 2541037863, 'error': None, 'target': 'localhost', 'stats': Stats(qsize=0, delta=0, delay=0)}, 'event': 'RTM_NEWROUTE'}\n",
      "{'family': 2, 'dst_len': 32, 'src_len': 0, 'tos': 0, 'table': 255, 'proto': 2, 'scope': 254, 'type': 2, 'flags': 0, 'attrs': [('RTA_TABLE', 255), ('RTA_DST', '192.168.1.39'), ('RTA_PREFSRC', '192.168.1.39'), ('RTA_OIF', 2)], 'header': {'length': 60, 'type': 24, 'flags': 2, 'sequence_number': 305, 'pid': 2541037863, 'error': None, 'target': 'localhost', 'stats': Stats(qsize=0, delta=0, delay=0)}, 'event': 'RTM_NEWROUTE'}\n",
      "{'family': 2, 'dst_len': 32, 'src_len': 0, 'tos': 0, 'table': 255, 'proto': 2, 'scope': 253, 'type': 3, 'flags': 0, 'attrs': [('RTA_TABLE', 255), ('RTA_DST', '192.168.1.255'), ('RTA_PREFSRC', '192.168.1.39'), ('RTA_OIF', 2)], 'header': {'length': 60, 'type': 24, 'flags': 2, 'sequence_number': 305, 'pid': 2541037863, 'error': None, 'target': 'localhost', 'stats': Stats(qsize=0, delta=0, delay=0)}, 'event': 'RTM_NEWROUTE'}\n"
     ]
    }
   ],
   "source": [
    "\n",
    "for dump in ipr.route(\"dump\", oif=ipr.link_lookup(ifname=\"eth0\")[0]):\n",
    "    if 'dst_len' in dump.keys():\n",
    "        print(dump)\n"
   ]
  },
  {
   "cell_type": "code",
   "execution_count": 98,
   "id": "b097d5f6",
   "metadata": {},
   "outputs": [],
   "source": [
    "from sysctl_utilities import *"
   ]
  },
  {
   "cell_type": "code",
   "execution_count": 2,
   "id": "879337c7",
   "metadata": {},
   "outputs": [
    {
     "name": "stdout",
     "output_type": "stream",
     "text": [
      "74:51:ba:ec:37:01\n",
      "\u001b[32m2024-08-13 22:14:35,943 [INFO] pyroute2_utilities [change_mac]: wlan0 is busy shutting down the interface\u001b[0m\n",
      "\u001b[32m2024-08-13 22:14:36,061 [INFO] pyroute2_utilities [change_mac]: starting up wlan0\u001b[0m\n"
     ]
    }
   ],
   "source": [
    "from pyroute2_utilities import *\n",
    "import scapy.all\n",
    "import constants.mac_templates as mac_templates\n",
    "random_mac = scapy.all.RandMAC(mac_templates.random_mac_template())\n",
    "print(random_mac)\n",
    "set_host_data(ifname=\"wlan0\", ip=\"10.0.0.2\", mac=random_mac, ttl=21, netmask=24, mtu=1300)"
   ]
  },
  {
   "cell_type": "code",
   "execution_count": 40,
   "id": "7ec6df1f",
   "metadata": {},
   "outputs": [
    {
     "name": "stdout",
     "output_type": "stream",
     "text": [
      "['192.168.1.52/24']\n",
      "['fe80::369a:40c4:c83:5291/64']\n",
      "64:b4:73:aa:89:8d\n",
      "{'ipv4': ['192.168.1.52/24'], 'ipv6': ['fe80::369a:40c4:c83:5291/64'], 'mac': '64:b4:73:aa:89:8d', 'mtu': 1500, 'ttl': '64'}\n",
      "True\n"
     ]
    }
   ],
   "source": [
    "import pyroute2\n",
    "import socket\n",
    "import constants.sysctl_params as sysctl_params\n",
    "import shell_utilities\n",
    "\n",
    "ipr = pyroute2.IPRoute()\n",
    "ifname=\"wlan0\"\n",
    "\n",
    "simple_dump = {}\n",
    "ipv4s = []\n",
    "ipv6s = []\n",
    "for addr_dump in ipr.addr(\"dump\", index=ipr.link_lookup(ifname=ifname)[0]):\n",
    "    if addr_dump['family'] == socket.AF_INET:\n",
    "        temp_ipv4 = addr_dump.get_attr(\"IFA_ADDRESS\") + \"/\" + str(addr_dump['prefixlen'])\n",
    "        ipv4s.append(temp_ipv4)\n",
    "    if addr_dump['family'] == socket.AF_INET6:\n",
    "        temp_ipv6 = addr_dump.get_attr(\"IFA_ADDRESS\") + \"/\" + str(addr_dump['prefixlen'])\n",
    "        ipv6s.append(temp_ipv6)\n",
    "        \n",
    "link_dump = ipr.poll(ipr.link, \"dump\", ifname=ifname)[0]\n",
    "mac = link_dump.get_attr(\"IFLA_ADDRESS\")\n",
    "mtu = link_dump.get_attr(\"IFLA_MTU\")\n",
    "\n",
    "ttl = shell_utilities.get_sysctl_param(sysctl_params.IPV4_DEFAULT_TTL)\n",
    "\n",
    "print(ipv4s)\n",
    "print(ipv6s)\n",
    "print(mac)\n",
    "\n",
    "simple_dump.update({\"ipv4\" : ipv4s})\n",
    "simple_dump.update({\"ipv6\" : ipv6s})\n",
    "simple_dump.update({\"mac\" : mac})\n",
    "simple_dump.update({\"mtu\" : mtu})\n",
    "simple_dump.update({\"ttl\" : ttl})\n",
    "\n",
    "\n",
    "print(simple_dump)\n",
    "\n",
    "print(\"192.168.1.52/24\" in simple_dump['ipv4'])"
   ]
  },
  {
   "cell_type": "code",
   "execution_count": 48,
   "id": "cfedbdf7",
   "metadata": {
    "scrolled": false
   },
   "outputs": [
    {
     "data": {
      "text/plain": [
       "()"
      ]
     },
     "execution_count": 48,
     "metadata": {},
     "output_type": "execute_result"
    }
   ],
   "source": [
    "import socket\n",
    "ifname=\"wlan0\"\n",
    "ipr.addr(\"del\", index=ipr.link_lookup(ifname=ifname), addr=\"192.168.1.52/32\", family = socket.AF_INET)"
   ]
  },
  {
   "cell_type": "code",
   "execution_count": 8,
   "id": "c4a02a4f",
   "metadata": {},
   "outputs": [
    {
     "ename": "NameError",
     "evalue": "name 'conf' is not defined",
     "output_type": "error",
     "traceback": [
      "\u001b[0;31m---------------------------------------------------------------------------\u001b[0m",
      "\u001b[0;31mNameError\u001b[0m                                 Traceback (most recent call last)",
      "Cell \u001b[0;32mIn[8], line 6\u001b[0m\n\u001b[1;32m      4\u001b[0m \u001b[38;5;28;01mimport\u001b[39;00m \u001b[38;5;21;01msys\u001b[39;00m\n\u001b[1;32m      5\u001b[0m \u001b[38;5;28;01mimport\u001b[39;00m \u001b[38;5;21;01mos\u001b[39;00m\n\u001b[0;32m----> 6\u001b[0m \u001b[38;5;28;01mfrom\u001b[39;00m \u001b[38;5;21;01mtest_pyroute2_utilities\u001b[39;00m\u001b[38;5;21;01m.\u001b[39;00m\u001b[38;5;21;01mpy\u001b[39;00m \u001b[38;5;28;01mimport\u001b[39;00m \u001b[38;5;241m*\u001b[39m\n\u001b[1;32m      7\u001b[0m sys\u001b[38;5;241m.\u001b[39mpath\u001b[38;5;241m.\u001b[39minsert(\u001b[38;5;241m0\u001b[39m, os\u001b[38;5;241m.\u001b[39mpath\u001b[38;5;241m.\u001b[39mabspath(\u001b[38;5;124m'\u001b[39m\u001b[38;5;124m../..\u001b[39m\u001b[38;5;124m'\u001b[39m))\n\u001b[1;32m      9\u001b[0m \u001b[38;5;28;01mfrom\u001b[39;00m \u001b[38;5;21;01mreface2\u001b[39;00m\u001b[38;5;21;01m.\u001b[39;00m\u001b[38;5;21;01mutilities\u001b[39;00m\u001b[38;5;21;01m.\u001b[39;00m\u001b[38;5;21;01mpyroute2_utilities\u001b[39;00m \u001b[38;5;28;01mimport\u001b[39;00m \u001b[38;5;241m*\u001b[39m\n",
      "File \u001b[0;32m/home/ali/Documents/src/networking/reface/reface2/reface2/tests/test_pyroute2_utilities.py:38\u001b[0m\n\u001b[1;32m     35\u001b[0m \u001b[38;5;66;03m#list of valid interfaces to manipulate\u001b[39;00m\n\u001b[1;32m     36\u001b[0m \u001b[38;5;66;03m#if no allowed interfaces are listed a virtual interface is created\u001b[39;00m\n\u001b[1;32m     37\u001b[0m interfaces_to_manipulate \u001b[38;5;241m=\u001b[39m []\n\u001b[0;32m---> 38\u001b[0m \u001b[38;5;28;01mif\u001b[39;00m \u001b[38;5;28mlen\u001b[39m(\u001b[43mconf\u001b[49m[INTERFACES_TO_MANIPULATE]) \u001b[38;5;241m==\u001b[39m \u001b[38;5;241m0\u001b[39m:\n\u001b[1;32m     39\u001b[0m     \u001b[38;5;28;01mraise\u001b[39;00m \u001b[38;5;167;01mNotImplementedError\u001b[39;00m\n\u001b[1;32m     40\u001b[0m \u001b[38;5;28;01melse\u001b[39;00m:\n",
      "\u001b[0;31mNameError\u001b[0m: name 'conf' is not defined"
     ]
    }
   ],
   "source": [
    "import pyroute2\n",
    "import socket\n",
    "import pytest\n",
    "import sys\n",
    "import os\n",
    "from test_pyroute2_utilities.py import *\n",
    "sys.path.insert(0, os.path.abspath('../..'))\n",
    "\n",
    "from reface2.utilities.pyroute2_utilities import *\n",
    "ipr = pyroute2.IPRoute()\n",
    "ifname=\"wlan0\"\n",
    "\n",
    "@pytest.mark.parametrize(\"mac,ip,expected_errno\", generate_pytest_params(params['mac'], params['ip']))\n",
    "def test(mac,ip, expected_errno):\n",
    "        print(f\"{mac}, {ip}, {expected_errno}\")"
   ]
  },
  {
   "cell_type": "code",
   "execution_count": 24,
   "id": "80fcfd40",
   "metadata": {},
   "outputs": [
    {
     "name": "stdout",
     "output_type": "stream",
     "text": [
      "initial state : ['44:43:21:43:21:43']\n",
      "after state : ['b4:8c:9d:ad:4d:c9']\n"
     ]
    },
    {
     "ename": "AssertionError",
     "evalue": "Atomicity violated! Initial states: ['44:43:21:43:21:43'], Final states: ['b4:8c:9d:ad:4d:c9']",
     "output_type": "error",
     "traceback": [
      "\u001b[0;31m---------------------------------------------------------------------------\u001b[0m",
      "\u001b[0;31mNetlinkError\u001b[0m                              Traceback (most recent call last)",
      "Cell \u001b[0;32mIn[24], line 31\u001b[0m, in \u001b[0;36matomic.<locals>.decorator.<locals>.wrapper\u001b[0;34m(*args, **kwargs)\u001b[0m\n\u001b[1;32m     30\u001b[0m \u001b[38;5;28;01mtry\u001b[39;00m:\n\u001b[0;32m---> 31\u001b[0m     errno \u001b[38;5;241m=\u001b[39m \u001b[43mfunc\u001b[49m\u001b[43m(\u001b[49m\u001b[38;5;241;43m*\u001b[39;49m\u001b[43margs\u001b[49m\u001b[43m,\u001b[49m\u001b[43m \u001b[49m\u001b[38;5;241;43m*\u001b[39;49m\u001b[38;5;241;43m*\u001b[39;49m\u001b[43mkwargs\u001b[49m\u001b[43m)\u001b[49m\n\u001b[1;32m     32\u001b[0m \u001b[38;5;28;01mexcept\u001b[39;00m:\n",
      "Cell \u001b[0;32mIn[24], line 65\u001b[0m, in \u001b[0;36mset_mac\u001b[0;34m(ifname, mac)\u001b[0m\n\u001b[1;32m     64\u001b[0m ipr\u001b[38;5;241m.\u001b[39mlink(\u001b[38;5;124m\"\u001b[39m\u001b[38;5;124mset\u001b[39m\u001b[38;5;124m\"\u001b[39m, ifname\u001b[38;5;241m=\u001b[39mifname, address\u001b[38;5;241m=\u001b[39m \u001b[38;5;124m\"\u001b[39m\u001b[38;5;124mb4:8c:9d:ad:4d:c9\u001b[39m\u001b[38;5;124m\"\u001b[39m)\n\u001b[0;32m---> 65\u001b[0m \u001b[38;5;28;01mraise\u001b[39;00m e\n",
      "Cell \u001b[0;32mIn[24], line 62\u001b[0m, in \u001b[0;36mset_mac\u001b[0;34m(ifname, mac)\u001b[0m\n\u001b[1;32m     61\u001b[0m \u001b[38;5;28;01mtry\u001b[39;00m:\n\u001b[0;32m---> 62\u001b[0m     \u001b[43mchange_mac\u001b[49m\u001b[43m(\u001b[49m\u001b[43mifname\u001b[49m\u001b[43m,\u001b[49m\u001b[43m \u001b[49m\u001b[43mmac\u001b[49m\u001b[43m)\u001b[49m\n\u001b[1;32m     63\u001b[0m \u001b[38;5;28;01mexcept\u001b[39;00m \u001b[38;5;167;01mException\u001b[39;00m \u001b[38;5;28;01mas\u001b[39;00m e:\n",
      "File \u001b[0;32m/home/ali/Documents/src/networking/reface/reface2/reface2/utilities/pyroute2_utilities.py:71\u001b[0m, in \u001b[0;36mchange_mac\u001b[0;34m(interface_name, new_mac)\u001b[0m\n\u001b[1;32m     70\u001b[0m \u001b[38;5;28;01mif\u001b[39;00m e\u001b[38;5;241m.\u001b[39mcode \u001b[38;5;241m!=\u001b[39m errno\u001b[38;5;241m.\u001b[39mEBUSY:\n\u001b[0;32m---> 71\u001b[0m     \u001b[38;5;28;01mraise\u001b[39;00m e\n\u001b[1;32m     73\u001b[0m logger\u001b[38;5;241m.\u001b[39minfo(\u001b[38;5;124mf\u001b[39m\u001b[38;5;124m\"\u001b[39m\u001b[38;5;132;01m{\u001b[39;00minterface_name\u001b[38;5;132;01m}\u001b[39;00m\u001b[38;5;124m is busy shutting down the interface\u001b[39m\u001b[38;5;124m\"\u001b[39m)\n",
      "File \u001b[0;32m/home/ali/Documents/src/networking/reface/reface2/reface2/utilities/pyroute2_utilities.py:67\u001b[0m, in \u001b[0;36mchange_mac\u001b[0;34m(interface_name, new_mac)\u001b[0m\n\u001b[1;32m     66\u001b[0m logger\u001b[38;5;241m.\u001b[39mdebug(\u001b[38;5;124mf\u001b[39m\u001b[38;5;124m\"\u001b[39m\u001b[38;5;124mtrying to set mac for \u001b[39m\u001b[38;5;132;01m{\u001b[39;00minterface_name\u001b[38;5;132;01m=}\u001b[39;00m\u001b[38;5;124m, \u001b[39m\u001b[38;5;132;01m{\u001b[39;00mnew_mac\u001b[38;5;132;01m=}\u001b[39;00m\u001b[38;5;124m\"\u001b[39m)\n\u001b[0;32m---> 67\u001b[0m result \u001b[38;5;241m=\u001b[39m \u001b[43mipr\u001b[49m\u001b[38;5;241;43m.\u001b[39;49m\u001b[43mpoll\u001b[49m\u001b[43m(\u001b[49m\u001b[43mipr\u001b[49m\u001b[38;5;241;43m.\u001b[39;49m\u001b[43mlink\u001b[49m\u001b[43m,\u001b[49m\u001b[43m \u001b[49m\u001b[38;5;124;43m\"\u001b[39;49m\u001b[38;5;124;43mset\u001b[39;49m\u001b[38;5;124;43m\"\u001b[39;49m\u001b[43m,\u001b[49m\u001b[43m \u001b[49m\u001b[43mifname\u001b[49m\u001b[38;5;241;43m=\u001b[39;49m\u001b[43minterface_name\u001b[49m\u001b[43m,\u001b[49m\u001b[43m \u001b[49m\u001b[43maddress\u001b[49m\u001b[38;5;241;43m=\u001b[39;49m\u001b[43mnew_mac\u001b[49m\u001b[43m,\u001b[49m\u001b[43m \u001b[49m\u001b[43mtimeout\u001b[49m\u001b[43m \u001b[49m\u001b[38;5;241;43m=\u001b[39;49m\u001b[43mconf\u001b[49m\u001b[43m[\u001b[49m\u001b[43mTIMEOUT\u001b[49m\u001b[43m]\u001b[49m\u001b[43m)\u001b[49m[\u001b[38;5;241m0\u001b[39m]\n\u001b[1;32m     68\u001b[0m logger\u001b[38;5;241m.\u001b[39mdebug(\u001b[38;5;124mf\u001b[39m\u001b[38;5;124m\"\u001b[39m\u001b[38;5;124mresult of set mac \u001b[39m\u001b[38;5;132;01m{\u001b[39;00mresult\u001b[38;5;132;01m}\u001b[39;00m\u001b[38;5;124m\"\u001b[39m)\n",
      "File \u001b[0;32m/usr/lib/python3/dist-packages/pyroute2/iproute/linux.py:370\u001b[0m, in \u001b[0;36mRTNL_API.poll\u001b[0;34m(self, method, command, timeout, interval, **spec)\u001b[0m\n\u001b[1;32m    369\u001b[0m \u001b[38;5;28;01mtry\u001b[39;00m:\n\u001b[0;32m--> 370\u001b[0m     ret \u001b[38;5;241m=\u001b[39m \u001b[43mmethod\u001b[49m\u001b[43m(\u001b[49m\u001b[43mcommand\u001b[49m\u001b[43m,\u001b[49m\u001b[43m \u001b[49m\u001b[38;5;241;43m*\u001b[39;49m\u001b[38;5;241;43m*\u001b[39;49m\u001b[43mspec\u001b[49m\u001b[43m)\u001b[49m\n\u001b[1;32m    371\u001b[0m     \u001b[38;5;28;01mif\u001b[39;00m ret:\n",
      "File \u001b[0;32m/usr/lib/python3/dist-packages/pyroute2/iproute/linux.py:1672\u001b[0m, in \u001b[0;36mRTNL_API.link\u001b[0;34m(self, command, **kwarg)\u001b[0m\n\u001b[1;32m   1670\u001b[0m         msg[\u001b[38;5;124m'\u001b[39m\u001b[38;5;124mattrs\u001b[39m\u001b[38;5;124m'\u001b[39m]\u001b[38;5;241m.\u001b[39mappend([nla, value])\n\u001b[0;32m-> 1672\u001b[0m ret \u001b[38;5;241m=\u001b[39m \u001b[38;5;28;43mself\u001b[39;49m\u001b[38;5;241;43m.\u001b[39;49m\u001b[43mnlm_request\u001b[49m\u001b[43m(\u001b[49m\u001b[43mmsg\u001b[49m\u001b[43m,\u001b[49m\u001b[43m \u001b[49m\u001b[43mmsg_type\u001b[49m\u001b[38;5;241;43m=\u001b[39;49m\u001b[43mmsg_type\u001b[49m\u001b[43m,\u001b[49m\u001b[43m \u001b[49m\u001b[43mmsg_flags\u001b[49m\u001b[38;5;241;43m=\u001b[39;49m\u001b[43mmsg_flags\u001b[49m\u001b[43m)\u001b[49m\n\u001b[1;32m   1674\u001b[0m \u001b[38;5;28;01mif\u001b[39;00m command \u001b[38;5;241m==\u001b[39m \u001b[38;5;124m'\u001b[39m\u001b[38;5;124mdump\u001b[39m\u001b[38;5;124m'\u001b[39m \u001b[38;5;129;01mand\u001b[39;00m dump_filter \u001b[38;5;129;01mis\u001b[39;00m \u001b[38;5;129;01mnot\u001b[39;00m \u001b[38;5;28;01mNone\u001b[39;00m:\n",
      "File \u001b[0;32m/usr/lib/python3/dist-packages/pyroute2/netlink/nlsocket.py:870\u001b[0m, in \u001b[0;36mNetlinkSocketBase.__init__.<locals>.nlm_request\u001b[0;34m(*argv, **kwarg)\u001b[0m\n\u001b[1;32m    869\u001b[0m \u001b[38;5;28;01mdef\u001b[39;00m \u001b[38;5;21mnlm_request\u001b[39m(\u001b[38;5;241m*\u001b[39margv, \u001b[38;5;241m*\u001b[39m\u001b[38;5;241m*\u001b[39mkwarg):\n\u001b[0;32m--> 870\u001b[0m     \u001b[38;5;28;01mreturn\u001b[39;00m \u001b[38;5;28mtuple\u001b[39m(\u001b[38;5;28mself\u001b[39m\u001b[38;5;241m.\u001b[39m_genlm_request(\u001b[38;5;241m*\u001b[39margv, \u001b[38;5;241m*\u001b[39m\u001b[38;5;241m*\u001b[39mkwarg))\n",
      "File \u001b[0;32m/usr/lib/python3/dist-packages/pyroute2/netlink/nlsocket.py:1214\u001b[0m, in \u001b[0;36mNetlinkSocketBase.nlm_request\u001b[0;34m(self, msg, msg_type, msg_flags, terminate, callback, parser)\u001b[0m\n\u001b[1;32m   1213\u001b[0m \u001b[38;5;28;01melse\u001b[39;00m:\n\u001b[0;32m-> 1214\u001b[0m     \u001b[38;5;28;01mfor\u001b[39;00m msg \u001b[38;5;129;01min\u001b[39;00m \u001b[38;5;28;43mself\u001b[39;49m\u001b[38;5;241;43m.\u001b[39;49m\u001b[43mget\u001b[49m\u001b[43m(\u001b[49m\n\u001b[1;32m   1215\u001b[0m \u001b[43m        \u001b[49m\u001b[43mmsg_seq\u001b[49m\u001b[38;5;241;43m=\u001b[39;49m\u001b[43mmsg_seq\u001b[49m\u001b[43m,\u001b[49m\n\u001b[1;32m   1216\u001b[0m \u001b[43m        \u001b[49m\u001b[43mterminate\u001b[49m\u001b[38;5;241;43m=\u001b[39;49m\u001b[43mterminate\u001b[49m\u001b[43m,\u001b[49m\n\u001b[1;32m   1217\u001b[0m \u001b[43m        \u001b[49m\u001b[43mcallback\u001b[49m\u001b[38;5;241;43m=\u001b[39;49m\u001b[43mcallback\u001b[49m\u001b[43m,\u001b[49m\n\u001b[1;32m   1218\u001b[0m \u001b[43m    \u001b[49m\u001b[43m)\u001b[49m:\n\u001b[1;32m   1219\u001b[0m         \u001b[38;5;66;03m# analyze the response for effects to be\u001b[39;00m\n\u001b[1;32m   1220\u001b[0m         \u001b[38;5;66;03m# deferred\u001b[39;00m\n\u001b[1;32m   1221\u001b[0m         \u001b[38;5;28;01mif\u001b[39;00m (\n\u001b[1;32m   1222\u001b[0m             defer \u001b[38;5;129;01mis\u001b[39;00m \u001b[38;5;28;01mNone\u001b[39;00m\n\u001b[1;32m   1223\u001b[0m             \u001b[38;5;129;01mand\u001b[39;00m msg[\u001b[38;5;124m'\u001b[39m\u001b[38;5;124mheader\u001b[39m\u001b[38;5;124m'\u001b[39m][\u001b[38;5;124m'\u001b[39m\u001b[38;5;124mflags\u001b[39m\u001b[38;5;124m'\u001b[39m]\n\u001b[1;32m   1224\u001b[0m             \u001b[38;5;241m&\u001b[39m NLM_F_DUMP_INTR\n\u001b[1;32m   1225\u001b[0m         ):\n",
      "File \u001b[0;32m/usr/lib/python3/dist-packages/pyroute2/netlink/nlsocket.py:873\u001b[0m, in \u001b[0;36mNetlinkSocketBase.__init__.<locals>.get\u001b[0;34m(*argv, **kwarg)\u001b[0m\n\u001b[1;32m    872\u001b[0m \u001b[38;5;28;01mdef\u001b[39;00m \u001b[38;5;21mget\u001b[39m(\u001b[38;5;241m*\u001b[39margv, \u001b[38;5;241m*\u001b[39m\u001b[38;5;241m*\u001b[39mkwarg):\n\u001b[0;32m--> 873\u001b[0m     \u001b[38;5;28;01mreturn\u001b[39;00m \u001b[38;5;28mtuple\u001b[39m(\u001b[38;5;28mself\u001b[39m\u001b[38;5;241m.\u001b[39m_genlm_get(\u001b[38;5;241m*\u001b[39margv, \u001b[38;5;241m*\u001b[39m\u001b[38;5;241m*\u001b[39mkwarg))\n",
      "File \u001b[0;32m/usr/lib/python3/dist-packages/pyroute2/netlink/nlsocket.py:550\u001b[0m, in \u001b[0;36mEngineThreadSafe.get\u001b[0;34m(self, bufsize, msg_seq, terminate, callback, noraise)\u001b[0m\n\u001b[1;32m    549\u001b[0m     \u001b[38;5;66;03m# The loop is done\u001b[39;00m\n\u001b[0;32m--> 550\u001b[0m     \u001b[38;5;28;01mraise\u001b[39;00m msg[\u001b[38;5;124m'\u001b[39m\u001b[38;5;124mheader\u001b[39m\u001b[38;5;124m'\u001b[39m][\u001b[38;5;124m'\u001b[39m\u001b[38;5;124merror\u001b[39m\u001b[38;5;124m'\u001b[39m]\n\u001b[1;32m    552\u001b[0m \u001b[38;5;66;03m# If it is the terminator message, say \"enough\"\u001b[39;00m\n\u001b[1;32m    553\u001b[0m \u001b[38;5;66;03m# and requeue all the rest into Zero queue\u001b[39;00m\n",
      "\u001b[0;31mNetlinkError\u001b[0m: (99, 'Cannot assign requested address')",
      "\nDuring handling of the above exception, another exception occurred:\n",
      "\u001b[0;31mAssertionError\u001b[0m                            Traceback (most recent call last)",
      "Cell \u001b[0;32mIn[24], line 67\u001b[0m\n\u001b[1;32m     64\u001b[0m         ipr\u001b[38;5;241m.\u001b[39mlink(\u001b[38;5;124m\"\u001b[39m\u001b[38;5;124mset\u001b[39m\u001b[38;5;124m\"\u001b[39m, ifname\u001b[38;5;241m=\u001b[39mifname, address\u001b[38;5;241m=\u001b[39m \u001b[38;5;124m\"\u001b[39m\u001b[38;5;124mb4:8c:9d:ad:4d:c9\u001b[39m\u001b[38;5;124m\"\u001b[39m)\n\u001b[1;32m     65\u001b[0m         \u001b[38;5;28;01mraise\u001b[39;00m e\n\u001b[0;32m---> 67\u001b[0m \u001b[43mset_mac\u001b[49m\u001b[43m(\u001b[49m\u001b[38;5;124;43m\"\u001b[39;49m\u001b[38;5;124;43mwlan0\u001b[39;49m\u001b[38;5;124;43m\"\u001b[39;49m\u001b[43m,\u001b[49m\u001b[43m \u001b[49m\u001b[38;5;124;43m\"\u001b[39;49m\u001b[38;5;124;43mFF:FF:FF:FF:FF:FF\u001b[39;49m\u001b[38;5;124;43m\"\u001b[39;49m\u001b[43m)\u001b[49m\n",
      "Cell \u001b[0;32mIn[24], line 35\u001b[0m, in \u001b[0;36matomic.<locals>.decorator.<locals>.wrapper\u001b[0;34m(*args, **kwargs)\u001b[0m\n\u001b[1;32m     33\u001b[0m     final_states \u001b[38;5;241m=\u001b[39m [get_func() \u001b[38;5;28;01mfor\u001b[39;00m get_func \u001b[38;5;129;01min\u001b[39;00m get_state_funcs]\n\u001b[1;32m     34\u001b[0m     \u001b[38;5;28mprint\u001b[39m(\u001b[38;5;124mf\u001b[39m\u001b[38;5;124m\"\u001b[39m\u001b[38;5;124mafter state : \u001b[39m\u001b[38;5;132;01m{\u001b[39;00mfinal_states\u001b[38;5;132;01m}\u001b[39;00m\u001b[38;5;124m\"\u001b[39m)\n\u001b[0;32m---> 35\u001b[0m     \u001b[38;5;28;01massert\u001b[39;00m initial_states \u001b[38;5;241m==\u001b[39m final_states, (\n\u001b[1;32m     36\u001b[0m         \u001b[38;5;124m\"\u001b[39m\u001b[38;5;124mAtomicity violated! \u001b[39m\u001b[38;5;124m\"\u001b[39m\n\u001b[1;32m     37\u001b[0m         \u001b[38;5;124mf\u001b[39m\u001b[38;5;124m\"\u001b[39m\u001b[38;5;124mInitial states: \u001b[39m\u001b[38;5;132;01m{\u001b[39;00minitial_states\u001b[38;5;132;01m}\u001b[39;00m\u001b[38;5;124m, Final states: \u001b[39m\u001b[38;5;132;01m{\u001b[39;00mfinal_states\u001b[38;5;132;01m}\u001b[39;00m\u001b[38;5;124m\"\u001b[39m\n\u001b[1;32m     38\u001b[0m     )\n\u001b[1;32m     39\u001b[0m \u001b[38;5;66;03m# If function failed, ensure the state hasn't changed\u001b[39;00m\n\u001b[1;32m     40\u001b[0m \u001b[38;5;28;01mif\u001b[39;00m errno:\n",
      "\u001b[0;31mAssertionError\u001b[0m: Atomicity violated! Initial states: ['44:43:21:43:21:43'], Final states: ['b4:8c:9d:ad:4d:c9']"
     ]
    }
   ],
   "source": [
    "from functools import wraps\n",
    "\n",
    "def atomic(*get_state_funcs):\n",
    "    \"\"\"\n",
    "    A decorator that ensures the atomicity of the decorated function.\n",
    "    The function takes as an argument a variable number of callables `get_state_funcs`\n",
    "    that retrieve the current state of the target attributes.\n",
    "\n",
    "    If the function fails (returns a non-zero error code), the state of all the \n",
    "    attributes should remain unchanged.\n",
    "\n",
    "    Parameters:\n",
    "    *get_state_funcs (callables): Functions that retrieve the current state of \n",
    "                                  the target attributes.\n",
    "\n",
    "    Usage:\n",
    "        @atomic(get_attrX, get_attrY)\n",
    "        def some_function():\n",
    "            ...\n",
    "    \"\"\"\n",
    "    \n",
    "    def decorator(func):\n",
    "        @wraps(func)\n",
    "        def wrapper(*args, **kwargs):\n",
    "            # Get the initial state of all target attributes\n",
    "            initial_states = [get_func() for get_func in get_state_funcs]\n",
    "            print(f\"initial state : {initial_states}\")\n",
    "            # Execute the function and get the result (assuming errno is returned)\n",
    "            errno=0\n",
    "            try:\n",
    "                errno = func(*args, **kwargs)\n",
    "            except:\n",
    "                final_states = [get_func() for get_func in get_state_funcs]\n",
    "                print(f\"after state : {final_states}\")\n",
    "                assert initial_states == final_states, (\n",
    "                    \"Atomicity violated! \"\n",
    "                    f\"Initial states: {initial_states}, Final states: {final_states}\"\n",
    "                )\n",
    "            # If function failed, ensure the state hasn't changed\n",
    "            if errno:\n",
    "                final_states = [get_func() for get_func in get_state_funcs]\n",
    "                print(f\"after state : {final_states}\")\n",
    "                assert initial_states == final_states, (\n",
    "                    \"Atomicity violated! \"\n",
    "                    f\"Initial states: {initial_states}, Final states: {final_states}\"\n",
    "                )\n",
    "            \n",
    "            return errno\n",
    "            \n",
    "        return wrapper\n",
    "    \n",
    "    return decorator\n",
    "\n",
    "\n",
    "from pyroute2_utilities import*\n",
    "\n",
    "get_mac = lambda : ipr.link(\"dump\", ifname=\"wlan0\")[0].get_attr(\"IFLA_ADDRESS\")\n",
    "\n",
    "@atomic(get_mac)\n",
    "def set_mac(ifname, mac):\n",
    "    try:\n",
    "        change_mac(ifname, mac)\n",
    "    except Exception as e:\n",
    "        ipr.link(\"set\", ifname=ifname, address= \"b4:8c:9d:ad:4d:c9\")\n",
    "        raise e\n",
    "    \n",
    "set_mac(\"wlan0\", \"FF:FF:FF:FF:FF:FF\")"
   ]
  },
  {
   "cell_type": "code",
   "execution_count": 25,
   "id": "45475952",
   "metadata": {},
   "outputs": [
    {
     "data": {
      "text/plain": [
       "'b4:8c:9d:ad:4d:c9'"
      ]
     },
     "execution_count": 25,
     "metadata": {},
     "output_type": "execute_result"
    }
   ],
   "source": [
    "dic={\n",
    "    \"mac\" : ipr.link(\"dump\", ifname=\"wlan0\")[0].get_attr(\"IFLA_ADDRESS\")\n",
    "}\n",
    "dic[\"mac\"]"
   ]
  },
  {
   "cell_type": "code",
   "execution_count": 27,
   "id": "af4d5041",
   "metadata": {},
   "outputs": [
    {
     "data": {
      "text/plain": [
       "[1, 2, 1]"
      ]
     },
     "execution_count": 27,
     "metadata": {},
     "output_type": "execute_result"
    }
   ],
   "source": [
    "[1] + [2] + [1]"
   ]
  },
  {
   "cell_type": "code",
   "execution_count": null,
   "id": "c7d31c1c",
   "metadata": {},
   "outputs": [],
   "source": []
  },
  {
   "cell_type": "code",
   "execution_count": null,
   "id": "d6e4c650",
   "metadata": {},
   "outputs": [],
   "source": []
  },
  {
   "cell_type": "code",
   "execution_count": 48,
   "id": "347624a6",
   "metadata": {},
   "outputs": [
    {
     "data": {
      "text/plain": [
       "256"
      ]
     },
     "execution_count": 48,
     "metadata": {},
     "output_type": "execute_result"
    }
   ],
   "source": [
    "2**8"
   ]
  },
  {
   "cell_type": "code",
   "execution_count": 61,
   "id": "dec2ac3a",
   "metadata": {},
   "outputs": [
    {
     "name": "stdout",
     "output_type": "stream",
     "text": [
      "(99, 'Cannot assign requested address')\n"
     ]
    }
   ],
   "source": [
    "try: \n",
    "    ipr.link(\"set\", index = ipr.link_lookup(ifname=\"wlan0\"), address='00:00:00:00:00:00')\n",
    "except Exception as e:\n",
    "    print(e)"
   ]
  },
  {
   "cell_type": "code",
   "execution_count": 60,
   "id": "30ad74c6",
   "metadata": {},
   "outputs": [
    {
     "ename": "AddressValueError",
     "evalue": "4294967296 (>= 2**32) is not permitted as an IPv4 address",
     "output_type": "error",
     "traceback": [
      "\u001b[0;31m---------------------------------------------------------------------------\u001b[0m",
      "\u001b[0;31mAddressValueError\u001b[0m                         Traceback (most recent call last)",
      "Cell \u001b[0;32mIn[60], line 2\u001b[0m\n\u001b[1;32m      1\u001b[0m \u001b[38;5;28;01mfrom\u001b[39;00m \u001b[38;5;21;01mipaddress\u001b[39;00m \u001b[38;5;28;01mimport\u001b[39;00m \u001b[38;5;241m*\u001b[39m\n\u001b[0;32m----> 2\u001b[0m \u001b[43mIPv4Address\u001b[49m\u001b[43m(\u001b[49m\u001b[38;5;241;43m2\u001b[39;49m\u001b[38;5;241;43m*\u001b[39;49m\u001b[38;5;241;43m*\u001b[39;49m\u001b[38;5;241;43m32\u001b[39;49m\u001b[43m)\u001b[49m\n",
      "File \u001b[0;32m/usr/lib/python3.11/ipaddress.py:1300\u001b[0m, in \u001b[0;36mIPv4Address.__init__\u001b[0;34m(self, address)\u001b[0m\n\u001b[1;32m   1298\u001b[0m \u001b[38;5;66;03m# Efficient constructor from integer.\u001b[39;00m\n\u001b[1;32m   1299\u001b[0m \u001b[38;5;28;01mif\u001b[39;00m \u001b[38;5;28misinstance\u001b[39m(address, \u001b[38;5;28mint\u001b[39m):\n\u001b[0;32m-> 1300\u001b[0m     \u001b[38;5;28;43mself\u001b[39;49m\u001b[38;5;241;43m.\u001b[39;49m\u001b[43m_check_int_address\u001b[49m\u001b[43m(\u001b[49m\u001b[43maddress\u001b[49m\u001b[43m)\u001b[49m\n\u001b[1;32m   1301\u001b[0m     \u001b[38;5;28mself\u001b[39m\u001b[38;5;241m.\u001b[39m_ip \u001b[38;5;241m=\u001b[39m address\n\u001b[1;32m   1302\u001b[0m     \u001b[38;5;28;01mreturn\u001b[39;00m\n",
      "File \u001b[0;32m/usr/lib/python3.11/ipaddress.py:421\u001b[0m, in \u001b[0;36m_IPAddressBase._check_int_address\u001b[0;34m(self, address)\u001b[0m\n\u001b[1;32m    419\u001b[0m \u001b[38;5;28;01mif\u001b[39;00m address \u001b[38;5;241m>\u001b[39m \u001b[38;5;28mself\u001b[39m\u001b[38;5;241m.\u001b[39m_ALL_ONES:\n\u001b[1;32m    420\u001b[0m     msg \u001b[38;5;241m=\u001b[39m \u001b[38;5;124m\"\u001b[39m\u001b[38;5;132;01m%d\u001b[39;00m\u001b[38;5;124m (>= 2**\u001b[39m\u001b[38;5;132;01m%d\u001b[39;00m\u001b[38;5;124m) is not permitted as an IPv\u001b[39m\u001b[38;5;132;01m%d\u001b[39;00m\u001b[38;5;124m address\u001b[39m\u001b[38;5;124m\"\u001b[39m\n\u001b[0;32m--> 421\u001b[0m     \u001b[38;5;28;01mraise\u001b[39;00m AddressValueError(msg \u001b[38;5;241m%\u001b[39m (address, \u001b[38;5;28mself\u001b[39m\u001b[38;5;241m.\u001b[39m_max_prefixlen,\n\u001b[1;32m    422\u001b[0m                                    \u001b[38;5;28mself\u001b[39m\u001b[38;5;241m.\u001b[39m_version))\n",
      "\u001b[0;31mAddressValueError\u001b[0m: 4294967296 (>= 2**32) is not permitted as an IPv4 address"
     ]
    }
   ],
   "source": [
    "from ipaddress import *\n",
    "IPv4Address(2**32)"
   ]
  },
  {
   "cell_type": "code",
   "execution_count": null,
   "id": "84129229",
   "metadata": {},
   "outputs": [],
   "source": []
  }
 ],
 "metadata": {
  "kernelspec": {
   "display_name": "Python 3 (ipykernel)",
   "language": "python",
   "name": "python3"
  },
  "language_info": {
   "codemirror_mode": {
    "name": "ipython",
    "version": 3
   },
   "file_extension": ".py",
   "mimetype": "text/x-python",
   "name": "python",
   "nbconvert_exporter": "python",
   "pygments_lexer": "ipython3",
   "version": "3.11.9"
  }
 },
 "nbformat": 4,
 "nbformat_minor": 5
}
